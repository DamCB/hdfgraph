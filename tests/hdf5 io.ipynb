{
 "metadata": {
  "name": ""
 },
 "nbformat": 3,
 "nbformat_minor": 0,
 "worksheets": [
  {
   "cells": [
    {
     "cell_type": "code",
     "collapsed": false,
     "input": [
      "%load_ext autoreload\n",
      "%autoreload 2\n",
      "import numpy as np\n",
      "import graph_tool.all as gt\n",
      "import pandas as pd\n",
      "import hdfgraph\n",
      "import pandas.util.testing as tm\n",
      "\n"
     ],
     "language": "python",
     "metadata": {},
     "outputs": [],
     "prompt_number": 1
    },
    {
     "cell_type": "code",
     "collapsed": false,
     "input": [
      "graph, pos = gt.triangulation(np.random.random((10, 2)) * 4, type=\"delaunay\")\n",
      "ixs, wys = gt.ungroup_vector_property(pos, [0, 1])\n",
      "graph.vertex_properties['ixs'] = ixs\n",
      "graph.vertex_properties['wys'] = wys\n",
      "\n",
      "dist = graph.new_edge_property('double')\n",
      "for e in graph.edges():\n",
      "    dist[e] = np.hypot(ixs[e.target()] - ixs[e.source()],\n",
      "                       wys[e.target()] - wys[e.source()])\n",
      "graph.edge_properties['dist'] = dist\n",
      "\n",
      "short_edges = graph.new_edge_property('bool')\n",
      "short_edges.a = dist.a < dist.a.mean()\n",
      "graph.edge_properties['short_edges'] = short_edges\n",
      "\n"
     ],
     "language": "python",
     "metadata": {},
     "outputs": [],
     "prompt_number": 10
    },
    {
     "cell_type": "code",
     "collapsed": false,
     "input": [
      "%pdb"
     ],
     "language": "python",
     "metadata": {},
     "outputs": [
      {
       "output_type": "stream",
       "stream": "stdout",
       "text": [
        "Automatic pdb calling has been turned ON\n"
       ]
      }
     ],
     "prompt_number": 2
    },
    {
     "cell_type": "code",
     "collapsed": false,
     "input": [
      "with pd.get_store('io_test.h5') as store:\n",
      "    for key in store.keys():\n",
      "        store.remove(key)"
     ],
     "language": "python",
     "metadata": {},
     "outputs": [],
     "prompt_number": 27
    },
    {
     "cell_type": "code",
     "collapsed": false,
     "input": [
      "vertex_df, edge_df = hdfgraph.graph_to_dataframes(graph, stamp=0)"
     ],
     "language": "python",
     "metadata": {},
     "outputs": [],
     "prompt_number": 21
    },
    {
     "cell_type": "code",
     "collapsed": false,
     "input": [
      "hdfgraph.frames_to_hdf(vertex_df, edge_df, 'io_test.h5', reset=True)"
     ],
     "language": "python",
     "metadata": {},
     "outputs": [
      {
       "output_type": "stream",
       "stream": "stdout",
       "text": [
        "['target', 'source', 'stamp']\n",
        "['vertex_index', 'stamp']"
       ]
      },
      {
       "output_type": "stream",
       "stream": "stdout",
       "text": [
        "\n"
       ]
      }
     ],
     "prompt_number": 22
    },
    {
     "cell_type": "code",
     "collapsed": false,
     "input": [
      "vertex_df, edge_df = hdfgraph.frames_from_hdf('io_test.h5', stamp=0)"
     ],
     "language": "python",
     "metadata": {},
     "outputs": [],
     "prompt_number": 23
    },
    {
     "cell_type": "code",
     "collapsed": false,
     "input": [
      "hdfgraph.graph_to_hdf(graph, 'io_test.h5', stamp=0, reset=True)"
     ],
     "language": "python",
     "metadata": {},
     "outputs": [
      {
       "output_type": "stream",
       "stream": "stdout",
       "text": [
        "['target', 'source', 'stamp']\n",
        "['vertex_index', 'stamp']\n"
       ]
      }
     ],
     "prompt_number": 28
    },
    {
     "cell_type": "code",
     "collapsed": false,
     "input": [
      "%pdb"
     ],
     "language": "python",
     "metadata": {},
     "outputs": [
      {
       "output_type": "stream",
       "stream": "stdout",
       "text": [
        "Automatic pdb calling has been turned ON\n"
       ]
      }
     ],
     "prompt_number": 15
    },
    {
     "cell_type": "code",
     "collapsed": false,
     "input": [
      "graph_out = hdfgraph.graph_from_hdf('io_test.h5', stamp=0)"
     ],
     "language": "python",
     "metadata": {},
     "outputs": [],
     "prompt_number": 29
    },
    {
     "cell_type": "code",
     "collapsed": false,
     "input": [
      "dif = graph_out.edge_properties['dist'].a - graph.edge_properties['dist'].a"
     ],
     "language": "python",
     "metadata": {},
     "outputs": [],
     "prompt_number": 30
    },
    {
     "cell_type": "code",
     "collapsed": false,
     "input": [],
     "language": "python",
     "metadata": {},
     "outputs": []
    }
   ],
   "metadata": {}
  }
 ]
}