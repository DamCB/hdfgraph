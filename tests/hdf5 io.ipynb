{
 "metadata": {
  "name": ""
 },
 "nbformat": 3,
 "nbformat_minor": 0,
 "worksheets": [
  {
   "cells": [
    {
     "cell_type": "code",
     "collapsed": false,
     "input": [
      "%load_ext autoreload\n",
      "%autoreload 2\n",
      "import numpy as np\n",
      "import graph_tool.all as gt\n",
      "import pandas as pd\n",
      "import hdfgraph\n",
      "import pandas.util.testing as tm\n",
      "\n"
     ],
     "language": "python",
     "metadata": {},
     "outputs": [],
     "prompt_number": 1
    },
    {
     "cell_type": "code",
     "collapsed": false,
     "input": [
      "graph, pos = gt.triangulation(np.random.random((10, 2)) * 4, type=\"delaunay\")\n",
      "ixs, wys = gt.ungroup_vector_property(pos, [0, 1])\n",
      "graph.vertex_properties['ixs'] = ixs\n",
      "graph.vertex_properties['wys'] = wys\n",
      "\n",
      "dist = graph.new_edge_property('double')\n",
      "for e in graph.edges():\n",
      "    dist[e] = np.hypot(ixs[e.target()] - ixs[e.source()],\n",
      "                       wys[e.target()] - wys[e.source()])\n",
      "graph.edge_properties['dist'] = dist\n",
      "\n",
      "short_edges = graph.new_edge_property('bool')\n",
      "short_edges.a = dist.a < dist.a.mean()\n",
      "graph.edge_properties['short_edges'] = short_edges\n",
      "\n"
     ],
     "language": "python",
     "metadata": {},
     "outputs": [],
     "prompt_number": 2
    },
    {
     "cell_type": "code",
     "collapsed": false,
     "input": [
      "%pdb"
     ],
     "language": "python",
     "metadata": {},
     "outputs": [
      {
       "output_type": "stream",
       "stream": "stdout",
       "text": [
        "Automatic pdb calling has been turned ON\n"
       ]
      }
     ],
     "prompt_number": 3
    },
    {
     "cell_type": "code",
     "collapsed": false,
     "input": [
      "with pd.get_store('io_test.h5') as store:\n",
      "    for key in store.keys():\n",
      "        store.remove(key)"
     ],
     "language": "python",
     "metadata": {},
     "outputs": [],
     "prompt_number": 4
    },
    {
     "cell_type": "code",
     "collapsed": false,
     "input": [
      "vertex_df, edge_df = hdfgraph.graph_to_dataframes(graph, stamp=0)"
     ],
     "language": "python",
     "metadata": {},
     "outputs": [],
     "prompt_number": 5
    },
    {
     "cell_type": "code",
     "collapsed": false,
     "input": [
      "hdfgraph.frames_to_hdf(vertex_df, edge_df, 'io_test.h5', reset=True)"
     ],
     "language": "python",
     "metadata": {},
     "outputs": [
      {
       "output_type": "stream",
       "stream": "stdout",
       "text": [
        "['target', 'source', 'stamp']\n",
        "['vertex_index', 'stamp']"
       ]
      },
      {
       "output_type": "stream",
       "stream": "stdout",
       "text": [
        "\n"
       ]
      }
     ],
     "prompt_number": 6
    },
    {
     "cell_type": "code",
     "collapsed": false,
     "input": [
      "vertex_df, edge_df = hdfgraph.frames_from_hdf('io_test.h5', stamp=0)"
     ],
     "language": "python",
     "metadata": {},
     "outputs": [],
     "prompt_number": 7
    },
    {
     "cell_type": "code",
     "collapsed": false,
     "input": [
      "hdfgraph.graph_to_hdf(graph, 'io_test.h5', stamp=1, reset=True)"
     ],
     "language": "python",
     "metadata": {},
     "outputs": [
      {
       "output_type": "stream",
       "stream": "stdout",
       "text": [
        "['vertex_index', 'stamp']\n",
        "['target', 'source', 'stamp']\n"
       ]
      }
     ],
     "prompt_number": 8
    },
    {
     "cell_type": "code",
     "collapsed": false,
     "input": [
      "graph_out = hdfgraph.graph_from_hdf('io_test.h5', stamp=1)"
     ],
     "language": "python",
     "metadata": {},
     "outputs": [],
     "prompt_number": 17
    },
    {
     "cell_type": "code",
     "collapsed": false,
     "input": [
      "dif = graph_out.edge_properties['dist'].a - graph.edge_properties['dist'].a"
     ],
     "language": "python",
     "metadata": {},
     "outputs": [],
     "prompt_number": 18
    },
    {
     "cell_type": "code",
     "collapsed": false,
     "input": [
      "dif"
     ],
     "language": "python",
     "metadata": {},
     "outputs": [
      {
       "metadata": {},
       "output_type": "pyout",
       "prompt_number": 19,
       "text": [
        "array([ 0.,  0.,  0.,  0.,  0.,  0.,  0.,  0.,  0.,  0.,  0.,  0.,  0.,\n",
        "        0.,  0.,  0.,  0.,  0.,  0.,  0.,  0.])"
       ]
      }
     ],
     "prompt_number": 19
    },
    {
     "cell_type": "code",
     "collapsed": false,
     "input": [
      "with pd.get_store('io_test.h5') as store:\n",
      "   edge = store.select('edges', where=\"'stamp'=1\")"
     ],
     "language": "python",
     "metadata": {},
     "outputs": [],
     "prompt_number": 15
    },
    {
     "cell_type": "code",
     "collapsed": false,
     "input": [
      "edge.shape\n"
     ],
     "language": "python",
     "metadata": {},
     "outputs": [
      {
       "metadata": {},
       "output_type": "pyout",
       "prompt_number": 16,
       "text": [
        "(21, 2)"
       ]
      }
     ],
     "prompt_number": 16
    },
    {
     "cell_type": "code",
     "collapsed": false,
     "input": [
      "graph"
     ],
     "language": "python",
     "metadata": {},
     "outputs": [
      {
       "metadata": {},
       "output_type": "pyout",
       "prompt_number": 14,
       "text": [
        "<Graph object, undirected, with 10 vertices and 21 edges at 0x7fa652aa3590>"
       ]
      }
     ],
     "prompt_number": 14
    },
    {
     "cell_type": "code",
     "collapsed": false,
     "input": [
      "with pd.get_store('io_test.h5') as store:\n",
      "   vertex = store.select('vertices', where=\"'vertex_index'=1\")"
     ],
     "language": "python",
     "metadata": {},
     "outputs": [],
     "prompt_number": 21
    },
    {
     "cell_type": "code",
     "collapsed": false,
     "input": [
      "vertex"
     ],
     "language": "python",
     "metadata": {},
     "outputs": [
      {
       "html": [
        "<div style=\"max-height:1000px;max-width:1500px;overflow:auto;\">\n",
        "<table border=\"1\" class=\"dataframe\">\n",
        "  <thead>\n",
        "    <tr style=\"text-align: right;\">\n",
        "      <th></th>\n",
        "      <th></th>\n",
        "      <th>ixs</th>\n",
        "      <th>wys</th>\n",
        "    </tr>\n",
        "    <tr>\n",
        "      <th>stamp</th>\n",
        "      <th>vertex_index</th>\n",
        "      <th></th>\n",
        "      <th></th>\n",
        "    </tr>\n",
        "  </thead>\n",
        "  <tbody>\n",
        "    <tr>\n",
        "      <th>0</th>\n",
        "      <th>1</th>\n",
        "      <td> 1.412559</td>\n",
        "      <td> 3.412976</td>\n",
        "    </tr>\n",
        "    <tr>\n",
        "      <th>1</th>\n",
        "      <th>1</th>\n",
        "      <td> 1.412559</td>\n",
        "      <td> 3.412976</td>\n",
        "    </tr>\n",
        "  </tbody>\n",
        "</table>\n",
        "<p>2 rows \u00d7 2 columns</p>\n",
        "</div>"
       ],
       "metadata": {},
       "output_type": "pyout",
       "prompt_number": 22,
       "text": [
        "                         ixs       wys\n",
        "stamp vertex_index                    \n",
        "0     1             1.412559  3.412976\n",
        "1     1             1.412559  3.412976\n",
        "\n",
        "[2 rows x 2 columns]"
       ]
      }
     ],
     "prompt_number": 22
    },
    {
     "cell_type": "code",
     "collapsed": false,
     "input": [],
     "language": "python",
     "metadata": {},
     "outputs": []
    }
   ],
   "metadata": {}
  }
 ]
}